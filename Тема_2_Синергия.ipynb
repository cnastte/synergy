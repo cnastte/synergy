{
  "nbformat": 4,
  "nbformat_minor": 0,
  "metadata": {
    "colab": {
      "provenance": [],
      "authorship_tag": "ABX9TyOGFaz2IcrfP1of8eoa7PNl",
      "include_colab_link": true
    },
    "kernelspec": {
      "name": "python3",
      "display_name": "Python 3"
    },
    "language_info": {
      "name": "python"
    }
  },
  "cells": [
    {
      "cell_type": "markdown",
      "metadata": {
        "id": "view-in-github",
        "colab_type": "text"
      },
      "source": [
        "<a href=\"https://colab.research.google.com/github/cnastte/synergy/blob/main/%D0%A2%D0%B5%D0%BC%D0%B0_2_%D0%A1%D0%B8%D0%BD%D0%B5%D1%80%D0%B3%D0%B8%D1%8F.ipynb\" target=\"_parent\"><img src=\"https://colab.research.google.com/assets/colab-badge.svg\" alt=\"Open In Colab\"/></a>"
      ]
    },
    {
      "cell_type": "markdown",
      "source": [
        "Задание 1 (Урок 3)"
      ],
      "metadata": {
        "id": "4D40OngWGRuq"
      }
    },
    {
      "cell_type": "code",
      "execution_count": null,
      "metadata": {
        "id": "Paii7u3cDaSX"
      },
      "outputs": [],
      "source": [
        "vid = input()\n",
        "age = int(input())\n",
        "name = input()\n",
        "print(\"Это\", vid, \"по кличке\" name, \"Возраст:\", age)"
      ]
    },
    {
      "cell_type": "markdown",
      "source": [
        "Задание 2 (Урок 3)"
      ],
      "metadata": {
        "id": "gPvM6_8jGdDG"
      }
    },
    {
      "cell_type": "code",
      "source": [
        "print(\"Введите этапы развития человека\")\n",
        "a1 = input()\n",
        "a2 = input()\n",
        "a3 = input()\n",
        "a4 = input()\n",
        "a5 = input()\n",
        "a6 = input()\n",
        "print(a1, a2, a3, a4, a5, a6, sep = \"=>\")"
      ],
      "metadata": {
        "id": "wG4E-b7_For3"
      },
      "execution_count": null,
      "outputs": []
    },
    {
      "cell_type": "markdown",
      "source": [
        "Задание 1 (Урок 4)"
      ],
      "metadata": {
        "id": "P6U7Nb33yPQj"
      }
    },
    {
      "cell_type": "code",
      "source": [
        "print(\"Введите стороны прямоуцгольника\")\n",
        "a = int(input())\n",
        "b = int(input())\n",
        "print(\"Площадь прямоугольника = \", a * b, \"\\n\", \"Периметр прямоугольника = \", 2 * (a + b))"
      ],
      "metadata": {
        "id": "0TwAPKE_yVGX"
      },
      "execution_count": null,
      "outputs": []
    },
    {
      "cell_type": "markdown",
      "source": [
        "Задание 2 (Урок 4)"
      ],
      "metadata": {
        "id": "EbqCWRwk0WmI"
      }
    },
    {
      "cell_type": "code",
      "source": [
        " a = int(input())\n",
        " a1 = a // 10000\n",
        " a2 = a1 - a % 1000\n",
        " a3 = a2 - a % 100\n",
        " a4 = a3 - a % 10\n",
        " a5 = a % 10\n",
        " print(a4 ** a5 * a3 / (a2 - a1))"
      ],
      "metadata": {
        "id": "5VYGO2Iv0bGv"
      },
      "execution_count": null,
      "outputs": []
    },
    {
      "cell_type": "markdown",
      "source": [
        "Задание 1 (Урок 5)"
      ],
      "metadata": {
        "id": "L-FA6iRJzbdZ"
      }
    },
    {
      "cell_type": "code",
      "source": [
        "a = int(input())\n",
        "if a % 2 == 0 and a < 0:\n",
        "  print(\"отрицательное четное число\")\n",
        "elif a % 2 == 0 and a == 0:\n",
        "  print(\"нулевое число\")\n",
        "elif a % 2 == 0 and a > 0:\n",
        "  print(\"положительное нечетное число\")\n",
        "else:\n",
        "  print(\"число не является четным\")"
      ],
      "metadata": {
        "id": "Y5m6Dm4D0IUL"
      },
      "execution_count": null,
      "outputs": []
    },
    {
      "cell_type": "markdown",
      "source": [
        "Задание 2 (Урок 5)"
      ],
      "metadata": {
        "id": "-5aT_h2jLDCD"
      }
    },
    {
      "cell_type": "code",
      "source": [
        "Slovo = input()\n",
        "gl = Slovo.count(\"a\") + Slovo.count(\"e\") + Slovo.count(\"i\") + Slovo.count(\"o\") + Slovo.count(\"u\")\n",
        "print(\"Количество гласных:\", gl)\n",
        "print(\"Количество согласных:\", len(Slovo) - gl )\n",
        "if ('i' and 'a' and \"e\" and \"u\" and \"o\" and \"i\") in Slovo:\n",
        "  print(\"a =\", Slovo.count('a'))\n",
        "  print(\"e =\", Slovo.count('e'))\n",
        "  print(\"i =\", Slovo.count('i'))\n",
        "  print(\"o =\", Slovo.count('o'))\n",
        "  print(\"u =\", Slovo.count('u'))\n",
        "else:\n",
        "  print(\"False\")"
      ],
      "metadata": {
        "id": "xCL4Hhx2LI7s"
      },
      "execution_count": null,
      "outputs": []
    },
    {
      "cell_type": "markdown",
      "source": [
        "Задание 3 (Урок 5)"
      ],
      "metadata": {
        "id": "BjtW9ZE-Lieb"
      }
    },
    {
      "cell_type": "code",
      "source": [
        "x = int(input())\n",
        "A = int(input())\n",
        "B = int(input())\n",
        "if A >= x and B >= x:\n",
        "    print(2)\n",
        "elif A >= x:\n",
        "    print('Mike')\n",
        "elif B >= x:\n",
        "    print('Ivan')\n",
        "elif A + B >= x:\n",
        "    print(1)\n",
        "else:\n",
        "    print(0)"
      ],
      "metadata": {
        "id": "as_LZxqDLnCj"
      },
      "execution_count": null,
      "outputs": []
    }
  ]
}