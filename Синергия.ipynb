{
  "nbformat": 4,
  "nbformat_minor": 0,
  "metadata": {
    "colab": {
      "provenance": [],
      "authorship_tag": "ABX9TyOq0CTVZ0ytI03XLzxx1V0e",
      "include_colab_link": true
    },
    "kernelspec": {
      "name": "python3",
      "display_name": "Python 3"
    },
    "language_info": {
      "name": "python"
    }
  },
  "cells": [
    {
      "cell_type": "markdown",
      "metadata": {
        "id": "view-in-github",
        "colab_type": "text"
      },
      "source": [
        "<a href=\"https://colab.research.google.com/github/cnastte/synergy/blob/main/%D0%A1%D0%B8%D0%BD%D0%B5%D1%80%D0%B3%D0%B8%D1%8F.ipynb\" target=\"_parent\"><img src=\"https://colab.research.google.com/assets/colab-badge.svg\" alt=\"Open In Colab\"/></a>"
      ]
    },
    {
      "cell_type": "markdown",
      "source": [
        "Задание 1 (Урок 3)"
      ],
      "metadata": {
        "id": "4D40OngWGRuq"
      }
    },
    {
      "cell_type": "code",
      "execution_count": null,
      "metadata": {
        "id": "Paii7u3cDaSX"
      },
      "outputs": [],
      "source": [
        "vid = input()\n",
        "age = int(input())\n",
        "name = input()\n",
        "print(\"Это\", vid, \"по кличке\" name, \"Возраст:\", age)"
      ]
    },
    {
      "cell_type": "markdown",
      "source": [
        "Задание 2 (Урок 3)"
      ],
      "metadata": {
        "id": "gPvM6_8jGdDG"
      }
    },
    {
      "cell_type": "code",
      "source": [
        "print(\"Введите этапы развития человека\")\n",
        "a1 = input()\n",
        "a2 = input()\n",
        "a3 = input()\n",
        "a4 = input()\n",
        "a5 = input()\n",
        "a6 = input()\n",
        "print(a1, a2, a3, a4, a5, a6, sep = \"=>\")"
      ],
      "metadata": {
        "id": "wG4E-b7_For3"
      },
      "execution_count": null,
      "outputs": []
    },
    {
      "cell_type": "markdown",
      "source": [
        "Задание 1 (Урок 4)"
      ],
      "metadata": {
        "id": "P6U7Nb33yPQj"
      }
    },
    {
      "cell_type": "code",
      "source": [
        "print(\"Введите стороны прямоуцгольника\")\n",
        "a = int(input())\n",
        "b = int(input())\n",
        "print(\"Площадь прямоугольника = \", a * b, \"\\n\", \"Периметр прямоугольника = \", 2 * (a + b))"
      ],
      "metadata": {
        "id": "0TwAPKE_yVGX"
      },
      "execution_count": null,
      "outputs": []
    },
    {
      "cell_type": "markdown",
      "source": [
        "Задание 2 (Урок 4)"
      ],
      "metadata": {
        "id": "EbqCWRwk0WmI"
      }
    },
    {
      "cell_type": "code",
      "source": [
        " a = int(input())\n",
        " a1 = a // 10000\n",
        " a2 = a1 - a % 1000\n",
        " a3 = a2 - a % 100\n",
        " a4 = a3 - a % 10\n",
        " a5 = a % 10\n",
        " print(a4 ** a5 * a3 / (a2 - a1))"
      ],
      "metadata": {
        "id": "5VYGO2Iv0bGv"
      },
      "execution_count": null,
      "outputs": []
    }
  ]
}